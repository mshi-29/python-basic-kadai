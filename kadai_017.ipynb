{
  "nbformat": 4,
  "nbformat_minor": 0,
  "metadata": {
    "colab": {
      "provenance": [],
      "authorship_tag": "ABX9TyPXoCE7jswZ4lPxQABiC4D4",
      "include_colab_link": true
    },
    "kernelspec": {
      "name": "python3",
      "display_name": "Python 3"
    },
    "language_info": {
      "name": "python"
    }
  },
  "cells": [
    {
      "cell_type": "markdown",
      "metadata": {
        "id": "view-in-github",
        "colab_type": "text"
      },
      "source": [
        "<a href=\"https://colab.research.google.com/github/mshi-29/python-basic-kadai/blob/main/kadai_017.ipynb\" target=\"_parent\"><img src=\"https://colab.research.google.com/assets/colab-badge.svg\" alt=\"Open In Colab\"/></a>"
      ]
    },
    {
      "cell_type": "code",
      "execution_count": 15,
      "metadata": {
        "id": "TnV2Jup28pqA",
        "colab": {
          "base_uri": "https://localhost:8080/"
        },
        "outputId": "b905312f-4dd0-4082-a011-deb28cd770e8"
      },
      "outputs": [
        {
          "output_type": "stream",
          "name": "stdout",
          "text": [
            "侍太郎は大人です\n",
            "侍花子は大人ではないです\n",
            "侍太郎は大人です\n",
            "侍花子は大人ではないです\n"
          ]
        }
      ],
      "source": [
        "user_data = {\"侍太郎\": 21, \"侍花子\": 19}\n",
        "\n",
        "class Human:\n",
        "  def __init__(self, name, age):\n",
        "    self.name = name\n",
        "    self.age = age\n",
        "\n",
        "  def check_adult(self):\n",
        "    if self.age < 20:\n",
        "      print(f\"{self.name}は大人ではないです\")\n",
        "    else:\n",
        "      print(f\"{self.name}は大人です\")\n",
        "\n",
        "\n",
        "\n",
        "user_data['侍太郎'] = Human(\"侍太郎\", 21)\n",
        "user_data[\"侍花子\"] = Human(\"侍花子\", 19)\n",
        "\n",
        "for self in user_data:\n",
        "  user_data['侍太郎'].check_adult()\n",
        "  user_data['侍花子'].check_adult()\n",
        "\n"
      ]
    }
  ]
}