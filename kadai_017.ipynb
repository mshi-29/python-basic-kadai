{
  "nbformat": 4,
  "nbformat_minor": 0,
  "metadata": {
    "colab": {
      "provenance": [],
      "authorship_tag": "ABX9TyNCsC8BNs3LU77Pa0khA0b8",
      "include_colab_link": true
    },
    "kernelspec": {
      "name": "python3",
      "display_name": "Python 3"
    },
    "language_info": {
      "name": "python"
    }
  },
  "cells": [
    {
      "cell_type": "markdown",
      "metadata": {
        "id": "view-in-github",
        "colab_type": "text"
      },
      "source": [
        "<a href=\"https://colab.research.google.com/github/mshi-29/python-basic-kadai/blob/main/kadai_017.ipynb\" target=\"_parent\"><img src=\"https://colab.research.google.com/assets/colab-badge.svg\" alt=\"Open In Colab\"/></a>"
      ]
    },
    {
      "cell_type": "code",
      "execution_count": 57,
      "metadata": {
        "id": "TnV2Jup28pqA",
        "colab": {
          "base_uri": "https://localhost:8080/"
        },
        "outputId": "95a6d43e-2d2d-430a-c4f2-b69fcdf535bd"
      },
      "outputs": [
        {
          "output_type": "stream",
          "name": "stdout",
          "text": [
            "侍太郎は大人です\n",
            "侍花子は大人ではないです\n"
          ]
        }
      ],
      "source": [
        "class Human:\n",
        "  def __init__(self, name, age):\n",
        "    self.name = name\n",
        "    self.age = age\n",
        "\n",
        "  def check_adult(self):\n",
        "    if self.age < 20:\n",
        "      print(f\"{self.name}は大人ではないです\")\n",
        "    else:\n",
        "      print(f\"{self.name}は大人です\")\n",
        "\n",
        "\n",
        "\n",
        "human_1 = Human(\"侍太郎\", 21)\n",
        "human_2 = Human(\"侍花子\", 19)\n",
        "\n",
        "for i in range(1):\n",
        "  human_1.check_adult()\n",
        "  human_2.check_adult()\n",
        "\n"
      ]
    }
  ]
}