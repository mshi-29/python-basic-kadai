{
  "nbformat": 4,
  "nbformat_minor": 0,
  "metadata": {
    "colab": {
      "provenance": [],
      "authorship_tag": "ABX9TyNSQeQQ/vebMmPLduYTVYUZ",
      "include_colab_link": true
    },
    "kernelspec": {
      "name": "python3",
      "display_name": "Python 3"
    },
    "language_info": {
      "name": "python"
    }
  },
  "cells": [
    {
      "cell_type": "markdown",
      "metadata": {
        "id": "view-in-github",
        "colab_type": "text"
      },
      "source": [
        "<a href=\"https://colab.research.google.com/github/mshi-29/python-basic-kadai/blob/main/kadai_017.ipynb\" target=\"_parent\"><img src=\"https://colab.research.google.com/assets/colab-badge.svg\" alt=\"Open In Colab\"/></a>"
      ]
    },
    {
      "cell_type": "code",
      "source": [
        "\n",
        "\n",
        "class Human:\n",
        "  def __init__(self, name, age):\n",
        "    self.name = name\n",
        "    self.age = age\n",
        "\n",
        "  def check_adult(self):\n",
        "    if self.age < 20:\n",
        "      print(f\"{self.name}は大人ではないです\")\n",
        "    else:\n",
        "      print(f\"{self.name}は大人です\")\n",
        "\n",
        "Taro = Human(\"太郎\", 21)\n",
        "Hanako = Human(\"花子\", 19)\n",
        "\n",
        "Human_info = {Taro, Hanako}\n",
        "\n",
        "for menber in Human_info:\n",
        "  menber.check_adult()\n",
        "\n",
        "\n"
      ],
      "metadata": {
        "colab": {
          "base_uri": "https://localhost:8080/"
        },
        "id": "eka0JYZ2qGbK",
        "outputId": "bbe228d3-2745-478f-c345-7f2cc468e4fe"
      },
      "execution_count": 20,
      "outputs": [
        {
          "output_type": "stream",
          "name": "stdout",
          "text": [
            "太郎は大人です\n",
            "花子は大人ではないです\n"
          ]
        }
      ]
    }
  ]
}