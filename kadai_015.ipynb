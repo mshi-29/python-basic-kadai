{
  "nbformat": 4,
  "nbformat_minor": 0,
  "metadata": {
    "colab": {
      "provenance": [],
      "authorship_tag": "ABX9TyPk6r7y7O8VyYKiGcrCNPfr",
      "include_colab_link": true
    },
    "kernelspec": {
      "name": "python3",
      "display_name": "Python 3"
    },
    "language_info": {
      "name": "python"
    }
  },
  "cells": [
    {
      "cell_type": "markdown",
      "metadata": {
        "id": "view-in-github",
        "colab_type": "text"
      },
      "source": [
        "<a href=\"https://colab.research.google.com/github/mshi-29/python-basic-kadai/blob/main/kadai_015.ipynb\" target=\"_parent\"><img src=\"https://colab.research.google.com/assets/colab-badge.svg\" alt=\"Open In Colab\"/></a>"
      ]
    },
    {
      "cell_type": "code",
      "source": [
        "class Human:\n",
        "   def __init__(self, name, age):\n",
        "    self.name = name\n",
        "    self.age = age\n",
        "\n",
        "   def printinfo(self):\n",
        "     print(self.name)\n",
        "     print(self.age)\n",
        "\n",
        "user = Human(\"侍太郎\", 36)\n",
        "\n",
        "user.printinfo()\n",
        "\n"
      ],
      "metadata": {
        "id": "GC-ngXZHxwL2",
        "colab": {
          "base_uri": "https://localhost:8080/"
        },
        "outputId": "caffdd80-93d2-4d50-a52b-ebea5dec651e"
      },
      "execution_count": 11,
      "outputs": [
        {
          "output_type": "stream",
          "name": "stdout",
          "text": [
            "侍太郎\n",
            "36\n"
          ]
        }
      ]
    }
  ]
}