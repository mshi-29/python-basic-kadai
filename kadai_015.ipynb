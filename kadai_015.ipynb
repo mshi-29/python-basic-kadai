{
  "nbformat": 4,
  "nbformat_minor": 0,
  "metadata": {
    "colab": {
      "provenance": [],
      "authorship_tag": "ABX9TyMvGk/TiiYv5yN0lTg8Q0lF",
      "include_colab_link": true
    },
    "kernelspec": {
      "name": "python3",
      "display_name": "Python 3"
    },
    "language_info": {
      "name": "python"
    }
  },
  "cells": [
    {
      "cell_type": "markdown",
      "metadata": {
        "id": "view-in-github",
        "colab_type": "text"
      },
      "source": [
        "<a href=\"https://colab.research.google.com/github/mshi-29/python-basic-kadai/blob/main/kadai_015.ipynb\" target=\"_parent\"><img src=\"https://colab.research.google.com/assets/colab-badge.svg\" alt=\"Open In Colab\"/></a>"
      ]
    },
    {
      "cell_type": "code",
      "source": [
        "class Human:\n",
        "   def __init__(self, name, age):\n",
        "    self.name = name\n",
        "    self.age = age\n",
        "\n",
        "   def printinfo(self):\n",
        "     print(name, age)\n",
        "\n",
        "user = Human(\"侍太郎\", 36)\n",
        "\n",
        "user.printinfo()\n",
        "\n"
      ],
      "metadata": {
        "id": "GC-ngXZHxwL2"
      },
      "execution_count": 33,
      "outputs": []
    }
  ]
}